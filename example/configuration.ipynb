{
 "cells": [
  {
   "cell_type": "markdown",
   "id": "a3fd157b",
   "metadata": {},
   "source": [
    "# Configuration File\n",
    "\n",
    "To configure the conversion and state estimation bundeled in a yaml file, a `ConfigReader` is provided. The config reader reads a YAML file and creates the objects for state estimation and conversion. [config.yaml](./config.yaml) provides an example file for the yaml configuration.\n",
    "\n",
    "This configuration file is also used, when running the suite standalone."
   ]
  },
  {
   "cell_type": "code",
   "execution_count": 1,
   "id": "efdad380",
   "metadata": {},
   "outputs": [
    {
     "data": {
      "text/plain": [
       "SuiteConfiguration(dataset=<cgmes2pgm_converter.common.cgmes_dataset.CgmesDataset object at 0x791d8574bcb0>, converter_options=ConverterOptions(only_topo_island=False, topo_island_name=None, sources_from_sv=False, measurement_substitution=MeasurementSubstitutionOptions(default_sigma_pq=DefaultSigma(sigma=10.0, discrete={380.0: 30.0, 220.0: 20.0}), use_nominal_voltages=UMeasurementSubstitutionOptions(enable=False, sigma=100, nomv_to_measv_factor=1.05, discrete_meas={380.0: 410.0, 220.0: 231.0}, discrete_sigma={}), use_ssh=SshSubstitutionOptions(enable=False, sigma=20000000.0), passive_nodes=PassiveNodeOptions(enable=False, sigma=30, appliance_type=<ComponentType.sym_gen: 'sym_gen'>), imeas_used_for_qcalc=QFromIOptions(enable=False, sigma=20), branch_measurements=BranchMeasurements(mirror=MeasSub(enable=False, sigma=20, sigma_factor=1.0), zero_cut_branch=MeasSub(enable=False, sigma=20, sigma_factor=1.0), zero_cut_source=MeasSub(enable=False, sigma=20, sigma_factor=1.0)), incomplete_measurements=IncompleteMeasurements(use_ssh=MeasSub(enable=False, sigma=20, sigma_factor=1.0), use_balance=MeasSub(enable=False, sigma=20, sigma_factor=1.0))), network_splitting=NetworkSplittingOptions(enable=True, cut_branches=['BranchName1', 'BranchName2'], cut_substations=[], add_sources=False), use_generic_branch={<BranchType.LINE: 'line'>: True, <BranchType.TRANSFORMER: 'transformer'>: True, <BranchType.THREE_WINDING_TRANSFORMER: 'three_winding_transformer'>: True, <BranchType.PST: 'pst'>: True, <BranchType.THREE_WINDING_PST: 'three_winding_pst'>: True}), stes_options=StesOptions(pgm_parameters=PgmCalculationParameters(threads=-1, max_iterations=100, error_tolerance=1e-06, bad_data_tolerance=3), compute_islands_separately=False, compute_only_subnets=[], reconnect_branches=False), steps=Steps(measurement_simulation=True, stes=True), measurement_simulation=MeasurementSimulationConfiguration(seed=1234, power_ranges=<cgmes2pgm_suite.measurement_simulation.meas_ranges.MeasurementRangeSet object at 0x791d856652b0>, voltage_ranges=<cgmes2pgm_suite.measurement_simulation.meas_ranges.MeasurementRangeSet object at 0x791d856156d0>), logging_config=LoggingConfiguration(file='../../out/dataset_name/dataset_name.log', level='INFO', format='%(levelname)-8s :: %(message)s'), output_folder='../../out/dataset_name')"
      ]
     },
     "execution_count": 1,
     "metadata": {},
     "output_type": "execute_result"
    }
   ],
   "source": [
    "from cgmes2pgm_suite.config import SuiteConfigReader\n",
    "\n",
    "reader = SuiteConfigReader(path=\"config.yaml\")\n",
    "reader.read()"
   ]
  },
  {
   "cell_type": "markdown",
   "id": "af783954",
   "metadata": {},
   "source": [
    "The options `NetworkSplitting` and `MeasurementSubstitution` are optional. If they are not provided, no network splitting or measurement substitution will be performed.\n",
    "\n",
    "The measurement simulation has its own configuration file.\n",
    "It configures the sigmas used to distort the measurements. Different sigmas can be used for different measurements based on their voltage level.\n",
    "This file is referenced in the main config file. "
   ]
  }
 ],
 "metadata": {
  "kernelspec": {
   "display_name": "cgmes2pgm",
   "language": "python",
   "name": "python3"
  },
  "language_info": {
   "codemirror_mode": {
    "name": "ipython",
    "version": 3
   },
   "file_extension": ".py",
   "mimetype": "text/x-python",
   "name": "python",
   "nbconvert_exporter": "python",
   "pygments_lexer": "ipython3",
   "version": "3.13.3"
  }
 },
 "nbformat": 4,
 "nbformat_minor": 5
}
