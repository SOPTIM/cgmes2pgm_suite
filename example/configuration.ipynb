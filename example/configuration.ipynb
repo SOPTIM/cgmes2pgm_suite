{
 "cells": [
  {
   "cell_type": "markdown",
   "id": "a3fd157b",
   "metadata": {},
   "source": [
    "# Configuration File\n",
    "\n",
    "To configure the conversion and state estimation bundeled in a yaml file, a `ConfigReader` is provided. The config reader reads a YAML file and creates the objects for state estimation and conversion. [config.yaml](./config.yaml) provides an example file for the yaml configuration.\n",
    "\n",
    "This configuration file is also used, when running the suite standalone."
   ]
  },
  {
   "cell_type": "code",
   "execution_count": 1,
   "id": "efdad380",
   "metadata": {},
   "outputs": [],
   "source": [
    "from cgmes2pgm_suite.config import ConfigReader\n",
    "\n",
    "reader = ConfigReader(path=\"config.yaml\")\n",
    "reader.read()"
   ]
  },
  {
   "cell_type": "markdown",
   "id": "af783954",
   "metadata": {},
   "source": [
    "The options `NetworkSplitting` and `MeasurementSubstitution` are optional. If they are not provided, no network splitting or measurement substitution will be performed.\n",
    "\n",
    "The measurement simulation has its own configuration file.\n",
    "It configures the sigmas used to distort the measurements. Different sigmas can be used for different measurements based on their voltage level.\n",
    "This file is referenced in the main config file. "
   ]
  }
 ],
 "metadata": {
  "kernelspec": {
   "display_name": "poc_os",
   "language": "python",
   "name": "python3"
  },
  "language_info": {
   "codemirror_mode": {
    "name": "ipython",
    "version": 3
   },
   "file_extension": ".py",
   "mimetype": "text/x-python",
   "name": "python",
   "nbconvert_exporter": "python",
   "pygments_lexer": "ipython3",
   "version": "3.13.2"
  }
 },
 "nbformat": 4,
 "nbformat_minor": 5
}
