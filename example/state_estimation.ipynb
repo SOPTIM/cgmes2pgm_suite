{
 "cells": [
  {
   "cell_type": "markdown",
   "metadata": {},
   "source": [
    "# Running the PGM-State Estimation with simulated measurements\n",
    "\n",
    "In this notebook, we will run the PGM-State Estimation with simulated measurements."
   ]
  },
  {
   "cell_type": "markdown",
   "metadata": {},
   "source": [
    "## Create a dataset in Fuseki\n",
    "\n",
    "Download and start an Apache Jena Fuseki server as described in <https://jena.apache.org/documentation/fuseki2/index.html>.\n",
    "Create a new dataset in Fuseki with the name `test_dataset` and load the CGMES files into it's default graph.\n",
    "By default the Fuseki-UI is available at <http://localhost:3030>.\n",
    "\n",
    "For now, this repository does not contain CGMES datasets. Datasets may be added in the future.\n",
    "Datasets can be generated using PowSyBl, or the Conformity Datasets from ENTSO-E can be used, respecting their license."
   ]
  },
  {
   "cell_type": "code",
   "execution_count": 1,
   "metadata": {},
   "outputs": [],
   "source": [
    "from cgmes2pgm_converter import CgmesDataset\n",
    "from cgmes2pgm_converter.common import Profile\n",
    "\n",
    "base_url = \"http://localhost:3030/dataset_name\"\n",
    "dataset = CgmesDataset(\n",
    "    base_url=base_url,\n",
    "    # cim_namespace=\"http://iec.ch/TC57/2013/CIM-schema-cim16#\",\n",
    "    cim_namespace=\"http://iec.ch/TC57/CIM100#\",\n",
    "    graphs={\n",
    "        Profile.OP: base_url + \"/op\",\n",
    "        Profile.MEAS: base_url + \"/meas\",\n",
    "        Profile.SV: base_url + \"/sv\",\n",
    "    },\n",
    ")"
   ]
  },
  {
   "cell_type": "markdown",
   "metadata": {},
   "source": [
    "## Simulate measurements\n",
    "\n",
    "To perform a state estimation, we need measurements, which may not be provided as in the ENTSO-E Conformity Datasets.\n",
    "The `MeasurementBuilder` generates these measurements based on the provided SV Profile.\n",
    "\n",
    "CGMES defines the OP Profile to specify the measurement infrastructure using the classes `Analog` and `AnalogValue`.\n",
    "These objects are defined in the `/op` graph and are used to define the measurement infrastructure.\n",
    "The concrete measurement values are defined in a separate `/meas` graph, since CGMES does not intend to store concrete measurement values in the OP Profile.\n",
    "This allows the replacement of the `/meas` graph without the need to redefine the measurement infrastructure in the `/op` graph.\n",
    "\n",
    "The values from the SV Profile are distorted using a normal distribution. Its standard deviation is defined in the provided `meas_ranges.yaml` file.\n",
    "The standard deviation is chosen based on the voltage level of the bus and the type of measurement.\n"
   ]
  },
  {
   "cell_type": "code",
   "execution_count": 2,
   "metadata": {},
   "outputs": [
    {
     "name": "stdout",
     "output_type": "stream",
     "text": [
      "INFO     :: Building Voltage Measurements: 0.4194319248199463 seconds\n",
      "INFO     :: Building Power Measurements: 2.3895022869110107 seconds\n"
     ]
    }
   ],
   "source": [
    "from cgmes2pgm_suite.measurement_simulation import MeasurementBuilder\n",
    "from cgmes2pgm_suite.config import MeasurementSimulationConfigReader\n",
    "\n",
    "\n",
    "reader = MeasurementSimulationConfigReader(\"meas_ranges.yaml\")\n",
    "config = reader.read()\n",
    "\n",
    "builder = MeasurementBuilder(dataset, config)\n",
    "builder.build_from_sv()"
   ]
  },
  {
   "cell_type": "markdown",
   "metadata": {},
   "source": [
    "## Generate the PGM-Dataset\n",
    "\n",
    "The `CgmesToPgmConverter` is used to convert the CGMES dataset into a PGM dataset.\n",
    "Multiple parameters can be configured like limiting the model to a specific topological island using `cim:TopologicalIsland` from the SV-Profile.\n",
    "\n",
    "The generated `extra_info` object defines additional information about the generated objects like their initial mRID, name, and type.\n"
   ]
  },
  {
   "cell_type": "code",
   "execution_count": 3,
   "metadata": {},
   "outputs": [],
   "source": [
    "from cgmes2pgm_converter import CgmesToPgmConverter\n",
    "\n",
    "converter = CgmesToPgmConverter(datasource=dataset)\n",
    "input_data, extra_info = converter.convert()"
   ]
  },
  {
   "cell_type": "markdown",
   "metadata": {},
   "source": [
    "The generated `input_data` and `extra_info` objects can be serialized to a JSON file using the package `power-grid-model-io`."
   ]
  },
  {
   "cell_type": "code",
   "execution_count": 4,
   "metadata": {},
   "outputs": [],
   "source": [
    "from power_grid_model_io.converters.pgm_json_converter import PgmJsonConverter\n",
    "\n",
    "converter = PgmJsonConverter(destination_file=\"../out/model.json\")\n",
    "converter.save(input_data, extra_info)"
   ]
  },
  {
   "cell_type": "markdown",
   "metadata": {},
   "source": [
    "## Run PGM state estimation\n",
    "\n",
    "To run the PGM state estimation, the `StateEstimationWrapper` can be used, providing additional features such as calculating $J$ and $E(J)$, which can be used to evaluate the quality of the state estimation result."
   ]
  },
  {
   "cell_type": "code",
   "execution_count": 5,
   "metadata": {},
   "outputs": [
    {
     "name": "stdout",
     "output_type": "stream",
     "text": [
      "INFO     :: State Estimation: 0.0014204978942871094 seconds\n"
     ]
    }
   ],
   "source": [
    "from typing import cast\n",
    "from cgmes2pgm_suite.state_estimation import (\n",
    "    StateEstimationWrapper,\n",
    "    StateEstimationResult,\n",
    ")\n",
    "\n",
    "state_estimation_wrapper = StateEstimationWrapper(\n",
    "    input_data,\n",
    "    extra_info,\n",
    ")\n",
    "result = cast(StateEstimationResult, state_estimation_wrapper.run())"
   ]
  },
  {
   "cell_type": "markdown",
   "metadata": {},
   "source": [
    "## Export the results\n",
    "\n",
    "In addition to exporting results to JSON using `power-grid-model-io`, this package also supports exporting them in more human-readable formats, such as Excel.\n",
    "\n",
    "The generated Excel file contains the following information:\n",
    "- $J$ and $E(J)\\pm 3\\sigma$\n",
    "- Number of bad data $|u_{measured}-u_{estimated}| > 3\\sigma$\n",
    "- Node Voltages and Power Flows\n",
    "- List of all measurements\n",
    "- Comparison of estimated values with an existing SV-Profile"
   ]
  },
  {
   "cell_type": "code",
   "execution_count": 6,
   "metadata": {},
   "outputs": [
    {
     "data": {
      "text/plain": [
       "True"
      ]
     },
     "execution_count": 6,
     "metadata": {},
     "output_type": "execute_result"
    }
   ],
   "source": [
    "from cgmes2pgm_suite.export import StesResultExcelExport\n",
    "\n",
    "exporter = StesResultExcelExport(\n",
    "    path=\"../out/output.xlsx\",\n",
    "    datasource=dataset,\n",
    "    result=result,\n",
    "    sv_comparison=False,\n",
    ")\n",
    "exporter.export()"
   ]
  },
  {
   "cell_type": "markdown",
   "metadata": {},
   "source": [
    "## Create SV-Profile\n",
    "\n",
    "The `SvProfileBuilder` is used to create a SV-Profile from the PGM dataset.\n",
    "It writes the SV-Profile to the provided RDF-Graph. This includes objects of the following classes:\n",
    "- `md:FullModel` based on the provided `model_info` object or created using default values\n",
    "- `cim::TopologicalIsland` \n",
    "- `cim:SvVoltage` for all nodes\n",
    "- `cim:SvPowerFlow` for all connected Terminals"
   ]
  },
  {
   "cell_type": "code",
   "execution_count": 7,
   "metadata": {},
   "outputs": [],
   "source": [
    "from cgmes2pgm_suite.export import SvProfileBuilder, CgmesFullModel\n",
    "\n",
    "model_info = CgmesFullModel(\n",
    "    profile=\"http://entsoe.eu/CIM/StateVariables/4/1\",\n",
    "    description=\"dataset_name\",\n",
    ")\n",
    "\n",
    "sv_builder = SvProfileBuilder(\n",
    "    cgmes_dataset=dataset,\n",
    "    pgm_dataset=result,\n",
    "    target_graph=dataset.graphs[Profile.SV],\n",
    "    model_info=model_info,\n",
    ")\n",
    "sv_builder.build(overwrite_existing=True)"
   ]
  }
 ],
 "metadata": {
  "kernelspec": {
   "display_name": "cgmes2pgm",
   "language": "python",
   "name": "python3"
  },
  "language_info": {
   "codemirror_mode": {
    "name": "ipython",
    "version": 3
   },
   "file_extension": ".py",
   "mimetype": "text/x-python",
   "name": "python",
   "nbconvert_exporter": "python",
   "pygments_lexer": "ipython3",
   "version": "3.13.3"
  }
 },
 "nbformat": 4,
 "nbformat_minor": 2
}
