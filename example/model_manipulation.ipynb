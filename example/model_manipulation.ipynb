{
 "cells": [
  {
   "cell_type": "markdown",
   "metadata": {},
   "source": [
    "# Model manipulation\n",
    "\n",
    "Performing state estimation with larger models or actual measurements may lead to divergence or result in unrealistic outcomes.\n",
    "This could be due to incorrect model parameters.\n",
    "\n",
    "To improve the results, multiple methods can be used:\n",
    "- Add generators with $P=Q=0$ at buses that do not have any appliances (passive nodes). These generators can compensate for power mismatches.\n",
    "- Split branches: Some branches may have incorrect parameters, resulting in divergence. By splitting these branches into two generators/loads, the incorrect parameters can be compensated.\n",
    "- To debug diverging networks, it may be useful to split the network into smaller parts and run the state estimation on these parts, checking which parts converge and which do not.\n",
    "\n",
    "This package provides methods to manipulate an existing PGM dataset, which are described in this notebook."
   ]
  },
  {
   "cell_type": "markdown",
   "metadata": {},
   "source": [
    "## Data Setup\n",
    "\n",
    "We will create the dataset and run the measurement simulation analog to the `state-estimation` notebook."
   ]
  },
  {
   "cell_type": "code",
   "execution_count": 1,
   "metadata": {},
   "outputs": [],
   "source": [
    "from cgmes2pgm_converter import CgmesDataset\n",
    "from cgmes2pgm_converter.common import Profile\n",
    "\n",
    "base_url = \"http://localhost:3030/dataset_name\"\n",
    "dataset = CgmesDataset(\n",
    "    base_url=base_url,\n",
    "    # cim_namespace=\"http://iec.ch/TC57/2013/CIM-schema-cim16#\",\n",
    "    cim_namespace=\"http://iec.ch/TC57/CIM100#\",\n",
    "    graphs={\n",
    "        Profile.OP: base_url + \"/op\",\n",
    "        Profile.MEAS: base_url + \"/meas\",\n",
    "    },\n",
    ")"
   ]
  },
  {
   "cell_type": "markdown",
   "metadata": {},
   "source": [
    "Run Measurement Simulation:"
   ]
  },
  {
   "cell_type": "code",
   "execution_count": 2,
   "metadata": {},
   "outputs": [
    {
     "name": "stdout",
     "output_type": "stream",
     "text": [
      "INFO     :: Building Voltage Measurements: 0.4082028865814209 seconds\n",
      "INFO     :: Building Power Measurements: 2.3336668014526367 seconds\n"
     ]
    }
   ],
   "source": [
    "from cgmes2pgm_suite.measurement_simulation import MeasurementBuilder\n",
    "from cgmes2pgm_suite.config import MeasurementSimulationConfigReader\n",
    "\n",
    "reader = MeasurementSimulationConfigReader(\"meas_ranges.yaml\")\n",
    "config = reader.read()\n",
    "\n",
    "builder = MeasurementBuilder(dataset, config)\n",
    "builder.build_from_sv()"
   ]
  },
  {
   "cell_type": "markdown",
   "metadata": {},
   "source": [
    "## Splitting the network\n",
    "\n",
    "If the state estimation diverges, it may be due to incorrect parameters of the branches, missing network elements or wrong measurements. \n",
    "To localize the problem, the network can be split into smaller parts using the following methods.\n",
    "\n",
    "### Splitting branches\n",
    "\n",
    "Specific branches can be replaced by two loads. The branches are specified using their `cim:IdentifiedObject.name` attribute.\n",
    "\n",
    "> **Hint:**  \n",
    "> By setting `add_sources=True` the split branches are replaced with two sources instead of two generators.\n",
    "> If multiple islands are created by splitting the branches and some islands don't have a source,\n",
    "> this option allows that all islands can be calculated.\n",
    "> \n",
    "> By setting `StesOptions.compute_islands_separately=True` the islands are calculated separately.\n",
    "\n"
   ]
  },
  {
   "cell_type": "code",
   "execution_count": 3,
   "metadata": {},
   "outputs": [
    {
     "name": "stdout",
     "output_type": "stream",
     "text": [
      "INFO     :: State Estimation: 0.0013873577117919922 seconds\n",
      "---------------------------------------------\n",
      "State Estimation Results\n",
      "---------------------------------------------\n",
      "Run name            network\n",
      "Converged           True\n",
      "---------------------------------------------\n",
      "J                    907.59\n",
      "E(J)                 854.00\n",
      "E(J) ± 3σ           [730.02; 977.98]\n",
      "Redundancy           3.56\n",
      "---------------------------------------------\n",
      "Bad measurements U   0\n",
      "Bad measurements P   0\n",
      "Bad measurements Q   2\n",
      "---------------------------------------------\n",
      "\n"
     ]
    }
   ],
   "source": [
    "from cgmes2pgm_converter import CgmesToPgmConverter, ConverterOptions\n",
    "from cgmes2pgm_converter.common import NetworkSplittingOptions\n",
    "from cgmes2pgm_suite.state_estimation import (\n",
    "    StesOptions,\n",
    "    StateEstimationWrapper,\n",
    ")\n",
    "\n",
    "splitting_options = NetworkSplittingOptions(\n",
    "    enable=True,\n",
    "    cut_branches=[\"L-12-13-1\", \"L-9-10-1\", \"L-9-11-1\"],\n",
    "    add_sources=False,\n",
    ")\n",
    "\n",
    "options = ConverterOptions(\n",
    "    network_splitting=splitting_options,\n",
    ")\n",
    "\n",
    "converter = CgmesToPgmConverter(datasource=dataset, options=options)\n",
    "input_data, extra_info = converter.convert()\n",
    "\n",
    "\n",
    "state_estimation_wrapper = StateEstimationWrapper(\n",
    "    input_data,\n",
    "    extra_info,\n",
    "    stes_options=StesOptions(),\n",
    ")\n",
    "result = state_estimation_wrapper.run()\n",
    "print(result)"
   ]
  },
  {
   "cell_type": "markdown",
   "metadata": {},
   "source": [
    "### Split by Substation\n",
    "\n",
    "Another option is to split the network by substation: All branches to the provided substations are removed and replaced with two generators/loads. Branches within the substations are not removed.\n",
    "\n",
    "If no substation names are provided, all branches between the substations are removed. This allows for calculating each substation separately."
   ]
  },
  {
   "cell_type": "code",
   "execution_count": 4,
   "metadata": {},
   "outputs": [],
   "source": [
    "splitting_options = NetworkSplittingOptions(\n",
    "    enable=True,\n",
    "    cut_substations=[\"S4\", \"S6\"],\n",
    "    add_sources=False,\n",
    ")\n",
    "\n",
    "options = ConverterOptions(\n",
    "    network_splitting=splitting_options,\n",
    ")\n",
    "\n",
    "converter = CgmesToPgmConverter(datasource=dataset, options=options)\n",
    "input_data, extra_info = converter.convert()"
   ]
  },
  {
   "cell_type": "markdown",
   "metadata": {},
   "source": [
    "## Reconnecting Branches\n",
    "\n",
    "The Parameter `StesOptions.reconnect_branches` allows for automatically reconnecting branches, that have been split during conversion. This mode runs the state estimation multiple times and reconnects all branches unless they cause the state estimation to diverge.\n",
    "\n",
    "For this process, `StateEstimationWrapper` provides a list of all StateEstimationResults.\n",
    "In addition, the branches, that could not be reconnected are printed to the console.\n",
    "\n",
    "> **Hint:**  \n",
    "> This mode requires `NetworkSplittingOptions.add_sources` to be set to `True` during PGM conversion."
   ]
  },
  {
   "cell_type": "markdown",
   "metadata": {},
   "source": [
    "## Measurement Substitution\n",
    "\n",
    "### Passive Nodes\n",
    "\n",
    "To improve the results, additional generators/loads can be added to nodes that currently do not have any generators, loads or sources. The added generators/loads can compensate for power mismatches or missing network elements by injecting or consuming power at those nodes."
   ]
  },
  {
   "cell_type": "code",
   "execution_count": 5,
   "metadata": {},
   "outputs": [],
   "source": [
    "from cgmes2pgm_converter.common import (\n",
    "    MeasurementSubstitutionOptions,\n",
    "    PassiveNodeOptions,\n",
    ")\n",
    "\n",
    "measurement_substitution_options = MeasurementSubstitutionOptions(\n",
    "    passive_nodes=PassiveNodeOptions(\n",
    "        enable=True,\n",
    "        sigma=3,  # MW/MVAr\n",
    "    )\n",
    ")\n",
    "options = ConverterOptions(\n",
    "    measurement_substitution=measurement_substitution_options,\n",
    ")\n",
    "converter = CgmesToPgmConverter(datasource=dataset, options=options)\n",
    "input_data, extra_info = converter.convert()"
   ]
  },
  {
   "cell_type": "markdown",
   "metadata": {},
   "source": [
    "### Q-Measurements from Current (I-)Measurements\n",
    "\n",
    "For now, PGM does not support current measurements.\n",
    "For shunts, Q-measurements can be derived from the current measurements.\n",
    "\n",
    "Assuming no active power flow to the shunt, the reactive power is given by $Q = \\sqrt{3} \\cdot U \\cdot I$\n",
    "\n",
    ">**Hint:**\n",
    "> The node connected to the shunt needs to have a voltage measurement."
   ]
  },
  {
   "cell_type": "code",
   "execution_count": 6,
   "metadata": {},
   "outputs": [],
   "source": [
    "from cgmes2pgm_converter.common import QFromIOptions\n",
    "\n",
    "measurement_substitution_options = MeasurementSubstitutionOptions(\n",
    "    imeas_used_for_qcalc=QFromIOptions(\n",
    "        enable=True,\n",
    "        sigma=3,  # MW/MVAr\n",
    "    )\n",
    ")\n",
    "options = ConverterOptions(\n",
    "    measurement_substitution=measurement_substitution_options,\n",
    ")\n",
    "\n",
    "converter = CgmesToPgmConverter(datasource=dataset, options=options)\n",
    "input_data, extra_info = converter.convert()"
   ]
  }
 ],
 "metadata": {
  "kernelspec": {
   "display_name": "cgmes2pgm",
   "language": "python",
   "name": "python3"
  },
  "language_info": {
   "codemirror_mode": {
    "name": "ipython",
    "version": 3
   },
   "file_extension": ".py",
   "mimetype": "text/x-python",
   "name": "python",
   "nbconvert_exporter": "python",
   "pygments_lexer": "ipython3",
   "version": "3.13.3"
  }
 },
 "nbformat": 4,
 "nbformat_minor": 2
}
